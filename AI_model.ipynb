{
  "cells": [
    {
      "cell_type": "code",
      "source": [
        "from google.colab import drive\n",
        "drive.mount('/content/drive')"
      ],
      "metadata": {
        "colab": {
          "base_uri": "https://localhost:8080/"
        },
        "id": "Nq6S6CfdvnLh",
        "outputId": "ad4f1b85-954a-4a4a-ea9f-1f57bce6fcfb"
      },
      "id": "Nq6S6CfdvnLh",
      "execution_count": null,
      "outputs": [
        {
          "output_type": "stream",
          "name": "stdout",
          "text": [
            "Mounted at /content/drive\n"
          ]
        }
      ]
    },
    {
      "cell_type": "markdown",
      "source": [
        "#\ud6c8\ub828"
      ],
      "metadata": {
        "id": "xJm4X8JJ_ZUa"
      },
      "id": "xJm4X8JJ_ZUa"
    },
    {
      "cell_type": "code",
      "source": [
        "# tokenizer \uc800\uc7a5 \ubc0f \ub85c\ub529\uc744 \uc704\ud55c \ucd08\uae30\ud654 \ucf54\ub4dc\n",
        "from transformers import AutoTokenizer\n",
        "\n",
        "checkpoint = \"beomi/KcELECTRA-small-v2022\"\n",
        "shared_tokenizer_path = \"/content/drive/MyDrive/Capstone/shared_tokenizer\"\n",
        "\n",
        "tokenizer = AutoTokenizer.from_pretrained(checkpoint)\n",
        "tokenizer.save_pretrained(shared_tokenizer_path)\n",
        "print(f\"Tokenizer saved to {shared_tokenizer_path}\")"
      ],
      "metadata": {
        "colab": {
          "base_uri": "https://localhost:8080/"
        },
        "id": "lyV_sQ1YP6HZ",
        "outputId": "b98b8734-0d5a-41e1-9aa5-874107df4115"
      },
      "id": "lyV_sQ1YP6HZ",
      "execution_count": null,
      "outputs": [
        {
          "output_type": "stream",
          "name": "stdout",
          "text": [
            "Tokenizer saved to /content/drive/MyDrive/Capstone/shared_tokenizer\n"
          ]
        }
      ]
    },
    {
      "cell_type": "code",
      "metadata": {
        "id": "uSUdQf4uvjbH",
        "colab": {
          "base_uri": "https://localhost:8080/"
        },
        "outputId": "4661caea-522e-498b-d981-7c00a2bb4ea8"
      },
      "source": [
        "# \uacf5\ud1b5 \ub77c\uc774\ube0c\ub7ec\ub9ac\n",
        "import json\n",
        "import numpy as np\n",
        "import random\n",
        "from datasets import Dataset, DatasetDict\n",
        "from transformers import AutoTokenizer, AutoModelForSequenceClassification, TrainingArguments, Trainer\n",
        "from sklearn.metrics import accuracy_score, f1_score\n",
        "\n",
        "# task \uc124\uc815: \"binary\" \ub610\ub294 \"multi\"\n",
        "task = \"multi\"\n",
        "print(task)\n",
        "# \uacf5\ud1b5 tokenizer \uacbd\ub85c\n",
        "shared_tokenizer_path = \"/content/drive/MyDrive/Capstone/shared_tokenizer\"\n",
        "tokenizer = AutoTokenizer.from_pretrained(shared_tokenizer_path)"
      ],
      "execution_count": null,
      "outputs": [
        {
          "output_type": "stream",
          "name": "stdout",
          "text": [
            "multi\n"
          ]
        }
      ],
      "id": "uSUdQf4uvjbH"
    },
    {
      "cell_type": "code",
      "metadata": {
        "id": "FLBU9JgJvjbK"
      },
      "source": [
        "import json\n",
        "from zipfile import ZipFile\n",
        "import random\n",
        "\n",
        "\n",
        "# JSON \ub370\uc774\ud130 \ub85c\ub4dc \ud568\uc218\n",
        "def load_json_dataset(file_path):\n",
        "    with open(file_path, 'r', encoding='utf-8') as f:\n",
        "        return json.load(f)\n",
        "\n",
        "if task == \"binary\":\n",
        "    # Placeholder for binary task - modify as needed\n",
        "    train_data = load_json_dataset(\"your_binary_train_file.json\")\n",
        "    for item in train_data:\n",
        "        item[\"labels\"] = item[\"binary_label\"]\n",
        "else:\n",
        "    train_data = load_json_dataset(\"/content/drive/MyDrive/Capstone/multiData/multi_train.json\")\n",
        "    for item in train_data:\n",
        "        item[\"labels\"] = item[\"category_labels\"]\n",
        "\n",
        "# \u2705 \uacf5\ud1b5: \ubb34\uc791\uc704 \uc154\ud50c \ubc0f validation set \ucd94\ucd9c\n",
        "random.shuffle(train_data)\n",
        "split_idx = int(len(train_data) * 0.2)\n",
        "val_data = train_data[:split_idx]\n",
        "train_data = train_data[split_idx:]\n",
        "\n",
        "# Define the path to save the validation data in Google Drive\n",
        "save_path = \"/content/drive/MyDrive/Capstone/multiData/multi_val.json\"\n",
        "\n",
        "# Save the validation data to the specified path\n",
        "with open(save_path, 'w', encoding='utf-8') as f:\n",
        "    json.dump(val_data, f, ensure_ascii=False, indent=4)\n",
        "\n"
      ],
      "execution_count": null,
      "outputs": [],
      "id": "FLBU9JgJvjbK"
    },
    {
      "cell_type": "code",
      "metadata": {
        "colab": {
          "base_uri": "https://localhost:8080/",
          "height": 81,
          "referenced_widgets": [
            "a33c06f5785c45a7b9e21aac0b7198d1",
            "534575447baf465bb63526d81ddfdc48",
            "a9f911992f004b0daf00a182a8a5692f",
            "7babf77a1f664c85be4c35b835114d07",
            "8f603586f92640f3a4d17e1bfd03c0d6",
            "358296d61bab417fb0231c1538a2a02c",
            "ba5894c8b85e46199da9824b06fae99a",
            "ee7b5f5a873442efaa6ecd4eed071aeb",
            "ab1d137c16334e13acd8ba5fce4fd5c6",
            "8edc6a4f805d491b8f62cc469c28ca26",
            "0b2d08ec24d64a92bb0b1d41a5877ee1",
            "398c25f74f1a4073a6c05108758f0dc3",
            "8945af9369ab4d45acd09c52d74e1f99",
            "6a5d2f857bed413ca4ba844a77620523",
            "a3b324dc81b44dc49aac53598e63004d",
            "b44a9571ed234453b86fe7c58ea273bb",
            "c0b061cf59c940f6954c150f53968b21",
            "b49df8032b3348a894ccbdebbe275ff8",
            "96011d30eb524fbf96980e47a336ad83",
            "706fc8bb32234a4da832db548c8ccc06",
            "249a1b4af68c499188482ff19482eccb",
            "7f4fe049c4c14a36ba4aff06965490f3"
          ]
        },
        "id": "krNrnmcGvjbM",
        "outputId": "3a547508-a5f4-4756-bfc7-539a48a6afc0"
      },
      "source": [
        "# DatasetDict \uc0dd\uc131 \ubc0f \ud1a0\ud06c\ub098\uc774\uc9d5\n",
        "dataset = DatasetDict({\n",
        "    'train': Dataset.from_list(train_data),\n",
        "    'validation': Dataset.from_list(val_data),\n",
        "})\n",
        "\n",
        "def tokenize_function(examples):\n",
        "    return tokenizer(examples[\"text\"], padding=\"max_length\", truncation=True, max_length=128)\n",
        "\n",
        "tokenized_dataset = dataset.map(tokenize_function, batched=True)"
      ],
      "execution_count": null,
      "outputs": [
        {
          "output_type": "display_data",
          "data": {
            "text/plain": [
              "Map:   0%|          | 0/82227 [00:00<?, ? examples/s]"
            ],
            "application/vnd.jupyter.widget-view+json": {
              "version_major": 2,
              "version_minor": 0,
              "model_id": "a33c06f5785c45a7b9e21aac0b7198d1"
            }
          },
          "metadata": {}
        },
        {
          "output_type": "display_data",
          "data": {
            "text/plain": [
              "Map:   0%|          | 0/20556 [00:00<?, ? examples/s]"
            ],
            "application/vnd.jupyter.widget-view+json": {
              "version_major": 2,
              "version_minor": 0,
              "model_id": "398c25f74f1a4073a6c05108758f0dc3"
            }
          },
          "metadata": {}
        }
      ],
      "id": "krNrnmcGvjbM"
    },
    {
      "cell_type": "code",
      "metadata": {
        "id": "-Yro6_qIvjbN",
        "colab": {
          "base_uri": "https://localhost:8080/",
          "height": 209,
          "referenced_widgets": [
            "f5fc79ec66464da3adb3acfcb0ba2217",
            "bcf144de756f4a42a0659082bf30c137",
            "98bba51b04cf4d94a7f03e4274e318df",
            "731eaa06c4304e1aaf5107723c8668de",
            "4081757e7cda4b46a4b83806e8c67056",
            "bd838b0c0b1f4c26900681bc468816ed",
            "b838db6081bb484591b4b8d9a4e42e22",
            "1ffa2f3c9c434536a96042dcb9ecca22",
            "d0b8b381be2942b4ab4d5e85fc0342f5",
            "3f71ead19cab4e6fb988eb73cb3dabe9",
            "8a98d57a6026492da5a1e45a8a2e1dfb",
            "28ba938bc9564254b57f64cfd456fdf6",
            "15b49d9b5d4f4e70ab7411dd2c8692d7",
            "3068b812ab3f474ab5a544e730bb0aae",
            "fb1c5b2674e74bbe93f2b78639314a1d",
            "17ac5d8d62f446d0a88d1caa2d8afd52",
            "d4c39c910e3a4adf9d7749c84074017a",
            "683b97b8a16b48cf92778d42922bf3e1",
            "d839bd0ff07e4544be39d759d6df999f",
            "9e109f383b05494fab14eccc666dc138",
            "3d9f52b94cd140f1950df60398fed319",
            "d5fef547cba04977a80f445161e814b9",
            "b821a01864de47c4a91d9a6145fa00fa",
            "f76c56eac8e74c479f9892f91a893f95",
            "27f348bc7b2f487c86d17e651476dd80",
            "2407b13dcb224010b63a670e9dbd357f",
            "fa917259a8f6419db8a402eb05b6c073",
            "ed58e6e43e564138b08c73ba84ab7054",
            "e796091677154733a9ac62881f4fb772",
            "c0c5588d90fe4d0f9090434ff068baae",
            "92a6a72974bb404fa579f16c75401252",
            "e1578619aa354c44869550a2fb8a4a55",
            "ac029e50aa844badbc39dffa9241eac9",
            "5d120dcad22d48d48155c18f109cbbfa",
            "b94b6dd09e2d4f62924c9859a8c54a66",
            "92baabb3406f435b948e27e0c29e2c14",
            "d1f49bfebb254351b07bcd32648c3c6a",
            "3c275960129344c5a438b423c689daf4",
            "7cd87a9153f04f2aa9a44b34dcaab057",
            "4fb5f534b1494f7995e4d161593d459e",
            "bca0c2053cf44c3d9e9451a67f94aeb7",
            "a8db26652153476ca5fbc5b524c74624",
            "79c1f1ba3fd6483d91ee2c87f02eebd5",
            "c4d20de198b14742967b68cdd942c99e",
            "79b3bc642f4e4d77ac41843b419baa3f",
            "771576cd828245afaba904094af3f5ea",
            "2c2891746db64abea406631a1cd1402d",
            "2dad74abb80c4c62b295fb9f56751473",
            "38300f519169429f91f2818dfbab02cd",
            "0562f9f467214297827b05cacb06dad3",
            "43cd428c3eef481db59a3c229ecd83be",
            "aaa2728da88a4667a5e323f32a505ab1",
            "53b9b2b56d964e2aa755ee1d600ae9d9",
            "ee8985ad8146428196c717758277f7e4",
            "11c505321d8f4ca393db1c8e936acbc8",
            "784fe7a48acd43188d02839373271c71",
            "d78dd1459bb74009b53db57a131e3f94",
            "5151e0a199b0416ebaa66bfc22a4a795",
            "0c43dfb917ba4727b5456d5248c13601",
            "41fee6e6699a48beb0276079f29e74e3",
            "839168a21f9e4a49bc6f6f0c8e4d9eca",
            "c5128c9d0fde42dc88116f6d9594093b",
            "1e4c472d1f724f8696345f544a424479",
            "06fc1b7abaa8493d8503429575a19b69",
            "627f3f91d80142d0b99a0a24cd4ea59f",
            "7311933aece84b4d8600f5404f3bd981"
          ]
        },
        "outputId": "663d7317-d2c8-4b37-8fd1-b5b14473bb16"
      },
      "source": [
        "# \ub2e4\uc911 \ubd84\ub958\uc6a9 \ub77c\ubca8 \ub9e4\ud551 \ucc98\ub9ac\n",
        "if task == \"multi\":\n",
        "    label2id = {\n",
        "        '\ub514\uc790\uc778/\uc678\ud615': 0,\n",
        "        '\uc131\ub2a5/\uae30\ub2a5': 1,\n",
        "        '\ud3b8\uc758\uc131/\uc0ac\uc6a9\uac10': 2,\n",
        "        '\uac00\uaca9/\uad6c\uc131': 3,\n",
        "        '\ud488\uc9c8/\ub0b4\uad6c\uc131': 4,\n",
        "    }\n",
        "    id2label = {v: k for k, v in label2id.items()}\n",
        "\n",
        "    def valid_category(example):\n",
        "        return \"category_labels\" in example\n",
        "\n",
        "    def map_category_label(example):\n",
        "        example[\"labels\"] = label2id.get(example[\"category_labels\"], -1)\n",
        "        return example\n",
        "\n",
        "    filtered_train = tokenized_dataset[\"train\"].filter(valid_category).map(map_category_label)\n",
        "    filtered_val = tokenized_dataset[\"validation\"].filter(valid_category).map(map_category_label)\n",
        "    filtered_train = filtered_train.filter(lambda x: x[\"labels\"] != -1)\n",
        "    filtered_val = filtered_val.filter(lambda x: x[\"labels\"] != -1)\n",
        "\n",
        "    train_set = filtered_train\n",
        "    val_set = filtered_val\n",
        "else:\n",
        "    train_set = tokenized_dataset[\"train\"]\n",
        "    val_set = tokenized_dataset[\"validation\"]"
      ],
      "execution_count": null,
      "outputs": [
        {
          "output_type": "display_data",
          "data": {
            "text/plain": [
              "Filter:   0%|          | 0/82227 [00:00<?, ? examples/s]"
            ],
            "application/vnd.jupyter.widget-view+json": {
              "version_major": 2,
              "version_minor": 0,
              "model_id": "f5fc79ec66464da3adb3acfcb0ba2217"
            }
          },
          "metadata": {}
        },
        {
          "output_type": "display_data",
          "data": {
            "text/plain": [
              "Map:   0%|          | 0/82227 [00:00<?, ? examples/s]"
            ],
            "application/vnd.jupyter.widget-view+json": {
              "version_major": 2,
              "version_minor": 0,
              "model_id": "28ba938bc9564254b57f64cfd456fdf6"
            }
          },
          "metadata": {}
        },
        {
          "output_type": "display_data",
          "data": {
            "text/plain": [
              "Filter:   0%|          | 0/20556 [00:00<?, ? examples/s]"
            ],
            "application/vnd.jupyter.widget-view+json": {
              "version_major": 2,
              "version_minor": 0,
              "model_id": "b821a01864de47c4a91d9a6145fa00fa"
            }
          },
          "metadata": {}
        },
        {
          "output_type": "display_data",
          "data": {
            "text/plain": [
              "Map:   0%|          | 0/20556 [00:00<?, ? examples/s]"
            ],
            "application/vnd.jupyter.widget-view+json": {
              "version_major": 2,
              "version_minor": 0,
              "model_id": "5d120dcad22d48d48155c18f109cbbfa"
            }
          },
          "metadata": {}
        },
        {
          "output_type": "display_data",
          "data": {
            "text/plain": [
              "Filter:   0%|          | 0/82227 [00:00<?, ? examples/s]"
            ],
            "application/vnd.jupyter.widget-view+json": {
              "version_major": 2,
              "version_minor": 0,
              "model_id": "79b3bc642f4e4d77ac41843b419baa3f"
            }
          },
          "metadata": {}
        },
        {
          "output_type": "display_data",
          "data": {
            "text/plain": [
              "Filter:   0%|          | 0/20556 [00:00<?, ? examples/s]"
            ],
            "application/vnd.jupyter.widget-view+json": {
              "version_major": 2,
              "version_minor": 0,
              "model_id": "784fe7a48acd43188d02839373271c71"
            }
          },
          "metadata": {}
        }
      ],
      "id": "-Yro6_qIvjbN"
    },
    {
      "cell_type": "code",
      "metadata": {
        "id": "b6JJ7d_CvjbO"
      },
      "source": [
        "# \ubaa8\ub378 \ubc0f metric \uc124\uc815\n",
        "if task == \"binary\":\n",
        "    model = AutoModelForSequenceClassification.from_pretrained(\"beomi/KcELECTRA-small-v2022\", num_labels=2)\n",
        "    def compute_metrics(eval_pred):\n",
        "        logits, labels = eval_pred\n",
        "        preds = np.argmax(logits, axis=1)\n",
        "        return {\n",
        "            \"accuracy\": accuracy_score(labels, preds),\n",
        "            \"f1\": f1_score(labels, preds)\n",
        "        }\n",
        "    output_dir = \"/content/drive/MyDrive/Capstone/binary_model\"\n",
        "else:\n",
        "    model = AutoModelForSequenceClassification.from_pretrained(\n",
        "        \"beomi/KcELECTRA-small-v2022\",\n",
        "        num_labels=5,\n",
        "        id2label=id2label,\n",
        "        label2id=label2id\n",
        "    )\n",
        "    def compute_metrics(eval_pred):\n",
        "        logits, labels = eval_pred\n",
        "        preds = np.argmax(logits, axis=1)\n",
        "        return {\n",
        "            \"accuracy\": accuracy_score(labels, preds),\n",
        "            \"f1_macro\": f1_score(labels, preds, average=\"macro\")\n",
        "        }\n",
        "    output_dir = \"/content/drive/MyDrive/Capstone/multi_model\""
      ],
      "execution_count": null,
      "outputs": [],
      "id": "b6JJ7d_CvjbO"
    },
    {
      "cell_type": "code",
      "metadata": {
        "id": "_yCEpu6rvjbO",
        "colab": {
          "base_uri": "https://localhost:8080/",
          "height": 231
        },
        "outputId": "6a7475cd-fcdb-4423-bdf5-80e79a674d1e"
      },
      "source": [
        "# Trainer \uc815\uc758 \ubc0f \ud559\uc2b5\n",
        "args = TrainingArguments(\n",
        "    output_dir=output_dir,\n",
        "    eval_strategy=\"epoch\",\n",
        "    save_strategy=\"epoch\",\n",
        "    logging_strategy=\"epoch\",\n",
        "    num_train_epochs=2,\n",
        "    per_device_train_batch_size=16,\n",
        "    per_device_eval_batch_size=16,\n",
        "    load_best_model_at_end=True,\n",
        "    report_to=\"none\"\n",
        ")\n",
        "\n",
        "trainer = Trainer(\n",
        "    model=model,\n",
        "    args=args,\n",
        "    train_dataset=train_set,\n",
        "    eval_dataset=val_set,\n",
        "    tokenizer=tokenizer,\n",
        "    compute_metrics=compute_metrics\n",
        ")\n",
        "\n",
        "trainer.train()"
      ],
      "execution_count": null,
      "outputs": [
        {
          "output_type": "stream",
          "name": "stderr",
          "text": [
            "<ipython-input-54-852dd97bf5d9>:14: FutureWarning: `tokenizer` is deprecated and will be removed in version 5.0.0 for `Trainer.__init__`. Use `processing_class` instead.\n",
            "  trainer = Trainer(\n"
          ]
        },
        {
          "output_type": "display_data",
          "data": {
            "text/plain": [
              "<IPython.core.display.HTML object>"
            ],
            "text/html": [
              "\n",
              "    <div>\n",
              "      \n",
              "      <progress value='10280' max='10280' style='width:300px; height:20px; vertical-align: middle;'></progress>\n",
              "      [10280/10280 12:02, Epoch 2/2]\n",
              "    </div>\n",
              "    <table border=\"1\" class=\"dataframe\">\n",
              "  <thead>\n",
              " <tr style=\"text-align: left;\">\n",
              "      <th>Epoch</th>\n",
              "      <th>Training Loss</th>\n",
              "      <th>Validation Loss</th>\n",
              "      <th>Accuracy</th>\n",
              "      <th>F1 Macro</th>\n",
              "    </tr>\n",
              "  </thead>\n",
              "  <tbody>\n",
              "    <tr>\n",
              "      <td>1</td>\n",
              "      <td>0.502500</td>\n",
              "      <td>0.364184</td>\n",
              "      <td>0.877165</td>\n",
              "      <td>0.874128</td>\n",
              "    </tr>\n",
              "    <tr>\n",
              "      <td>2</td>\n",
              "      <td>0.336300</td>\n",
              "      <td>0.336699</td>\n",
              "      <td>0.889035</td>\n",
              "      <td>0.886006</td>\n",
              "    </tr>\n",
              "  </tbody>\n",
              "</table><p>"
            ]
          },
          "metadata": {}
        },
        {
          "output_type": "execute_result",
          "data": {
            "text/plain": [
              "TrainOutput(global_step=10280, training_loss=0.41937760527495743, metrics={'train_runtime': 722.147, 'train_samples_per_second': 227.729, 'train_steps_per_second': 14.235, 'total_flos': 1209641781164544.0, 'train_loss': 0.41937760527495743, 'epoch': 2.0})"
            ]
          },
          "metadata": {},
          "execution_count": 54
        }
      ],
      "id": "_yCEpu6rvjbO"
    },
    {
      "cell_type": "code",
      "metadata": {
        "id": "yxQN_CrIvjbP"
      },
      "source": [
        "trainer.save_model(output_dir)\n",
        "\n",
        "print(\"\\n=== Validation Loss per Epoch ===\")\n",
        "for log in trainer.state.log_history:\n",
        "    if \"eval_loss\" in log:\n",
        "        print(f\"Epoch {log['epoch']:.2f} - eval_loss: {log['eval_loss']:.4f}\")"
      ],
      "execution_count": null,
      "outputs": [],
      "id": "yxQN_CrIvjbP"
    },
    {
      "cell_type": "markdown",
      "source": [
        "#\ucd94\ub860"
      ],
      "metadata": {
        "id": "2SCu7Dtk_Xhf"
      },
      "id": "2SCu7Dtk_Xhf"
    },
    {
      "cell_type": "markdown",
      "source": [
        "comprehend"
      ],
      "metadata": {
        "id": "B7Z9VCpvP6h2"
      },
      "id": "B7Z9VCpvP6h2"
    },
    {
      "cell_type": "code",
      "source": [
        "!pip install boto3\n",
        "import os\n",
        "\n",
        "# \ud0a4\ub97c \ud658\uacbd \ubcc0\uc218\uc5d0 \uc800\uc7a5 (\uc784\uc2dc \uc138\uc158\uc5d0\ub9cc \uc720\uc9c0\ub428)\n",
        "os.environ['AWS_ACCESS_KEY_ID'] = ''\n",
        "os.environ['AWS_SECRET_ACCESS_KEY'] = ''\n",
        "os.environ['AWS_REGION'] = 'ap-northeast-2'\n"
      ],
      "metadata": {
        "id": "fvGtuk4EQwZE",
        "colab": {
          "base_uri": "https://localhost:8080/"
        },
        "outputId": "de73c6d2-e5ce-48a4-93c9-1241819f10d7"
      },
      "id": "fvGtuk4EQwZE",
      "execution_count": null,
      "outputs": [
        {
          "output_type": "stream",
          "name": "stdout",
          "text": [
            "Collecting boto3\n",
            "  Downloading boto3-1.38.32-py3-none-any.whl.metadata (6.6 kB)\n",
            "Collecting botocore<1.39.0,>=1.38.32 (from boto3)\n",
            "  Downloading botocore-1.38.32-py3-none-any.whl.metadata (5.7 kB)\n",
            "Collecting jmespath<2.0.0,>=0.7.1 (from boto3)\n",
            "  Downloading jmespath-1.0.1-py3-none-any.whl.metadata (7.6 kB)\n",
            "Collecting s3transfer<0.14.0,>=0.13.0 (from boto3)\n",
            "  Downloading s3transfer-0.13.0-py3-none-any.whl.metadata (1.7 kB)\n",
            "Requirement already satisfied: python-dateutil<3.0.0,>=2.1 in /usr/local/lib/python3.11/dist-packages (from botocore<1.39.0,>=1.38.32->boto3) (2.9.0.post0)\n",
            "Requirement already satisfied: urllib3!=2.2.0,<3,>=1.25.4 in /usr/local/lib/python3.11/dist-packages (from botocore<1.39.0,>=1.38.32->boto3) (2.4.0)\n",
            "Requirement already satisfied: six>=1.5 in /usr/local/lib/python3.11/dist-packages (from python-dateutil<3.0.0,>=2.1->botocore<1.39.0,>=1.38.32->boto3) (1.17.0)\n",
            "Downloading boto3-1.38.32-py3-none-any.whl (139 kB)\n",
            "\u001b[2K   \u001b[90m\u2501\u2501\u2501\u2501\u2501\u2501\u2501\u2501\u2501\u2501\u2501\u2501\u2501\u2501\u2501\u2501\u2501\u2501\u2501\u2501\u2501\u2501\u2501\u2501\u2501\u2501\u2501\u2501\u2501\u2501\u2501\u2501\u2501\u2501\u2501\u2501\u2501\u2501\u2501\u2501\u001b[0m \u001b[32m139.9/139.9 kB\u001b[0m \u001b[31m6.2 MB/s\u001b[0m eta \u001b[36m0:00:00\u001b[0m\n",
            "\u001b[?25hDownloading botocore-1.38.32-py3-none-any.whl (13.6 MB)\n",
            "\u001b[2K   \u001b[90m\u2501\u2501\u2501\u2501\u2501\u2501\u2501\u2501\u2501\u2501\u2501\u2501\u2501\u2501\u2501\u2501\u2501\u2501\u2501\u2501\u2501\u2501\u2501\u2501\u2501\u2501\u2501\u2501\u2501\u2501\u2501\u2501\u2501\u2501\u2501\u2501\u2501\u2501\u2501\u2501\u001b[0m \u001b[32m13.6/13.6 MB\u001b[0m \u001b[31m81.1 MB/s\u001b[0m eta \u001b[36m0:00:00\u001b[0m\n",
            "\u001b[?25hDownloading jmespath-1.0.1-py3-none-any.whl (20 kB)\n",
            "Downloading s3transfer-0.13.0-py3-none-any.whl (85 kB)\n",
            "\u001b[2K   \u001b[90m\u2501\u2501\u2501\u2501\u2501\u2501\u2501\u2501\u2501\u2501\u2501\u2501\u2501\u2501\u2501\u2501\u2501\u2501\u2501\u2501\u2501\u2501\u2501\u2501\u2501\u2501\u2501\u2501\u2501\u2501\u2501\u2501\u2501\u2501\u2501\u2501\u2501\u2501\u2501\u2501\u001b[0m \u001b[32m85.2/85.2 kB\u001b[0m \u001b[31m7.1 MB/s\u001b[0m eta \u001b[36m0:00:00\u001b[0m\n",
            "\u001b[?25hInstalling collected packages: jmespath, botocore, s3transfer, boto3\n",
            "Successfully installed boto3-1.38.32 botocore-1.38.32 jmespath-1.0.1 s3transfer-0.13.0\n"
          ]
        }
      ]
    },
    {
      "cell_type": "code",
      "source": [
        "import torch\n",
        "import torch.nn.functional as F\n",
        "from transformers import AutoTokenizer, AutoModelForSequenceClassification\n",
        "import boto3\n",
        "import json\n",
        "\n",
        "# \uc7a5\uce58 \uc124\uc815\n",
        "device = torch.device(\"cuda\" if torch.cuda.is_available() else \"cpu\")\n",
        "\n",
        "# \u2705 tokenizer \ub85c\ub529\n",
        "tokenizer_path = \"/content/drive/MyDrive/Capstone/shared_tokenizer\"\n",
        "tokenizer = AutoTokenizer.from_pretrained(tokenizer_path)\n",
        "\n",
        "# \u2705 \ubaa8\ub378 \ub85c\ub529\n",
        "binary_model_path = \"/content/drive/MyDrive/Capstone/binary_model\"\n",
        "multi_model_path = \"/content/drive/MyDrive/Capstone/multi_model\"\n",
        "\n",
        "binary_model = AutoModelForSequenceClassification.from_pretrained(binary_model_path)\n",
        "multi_model = AutoModelForSequenceClassification.from_pretrained(multi_model_path)\n",
        "\n",
        "binary_model.to(device)\n",
        "multi_model.to(device)\n",
        "binary_model.eval()\n",
        "multi_model.eval()\n",
        "\n",
        "# \u2705 multi classification label mapping\n",
        "id2label = {\n",
        "    0: '\ub514\uc790\uc778/\uc678\ud615',\n",
        "    1: '\uc131\ub2a5/\uae30\ub2a5',\n",
        "    2: '\ud3b8\uc758\uc131/\uc0ac\uc6a9\uac10',\n",
        "    3: '\uac00\uaca9/\uad6c\uc131',\n",
        "    4: '\ud488\uc9c8/\ub0b4\uad6c\uc131',\n",
        "}\n",
        "\n",
        "# \u2705 AWS Comprehend \ud074\ub77c\uc774\uc5b8\ud2b8\n",
        "comprehend = boto3.client('comprehend', region_name='ap-northeast-2')\n",
        "\n",
        "\n",
        "# \u2705 \ucd94\ub860 \ud30c\uc774\ud504\ub77c\uc778\n",
        "def predict_pipeline(text):\n",
        "    inputs = tokenizer(text, return_tensors=\"pt\", truncation=True, padding=True, max_length=128)\n",
        "    inputs = {k: v.to(device) for k, v in inputs.items()}\n",
        "\n",
        "    # 1\ufe0f\u20e3 Binary\n",
        "    with torch.no_grad():\n",
        "        binary_outputs = binary_model(**inputs)\n",
        "        binary_probs = F.softmax(binary_outputs.logits, dim=1)\n",
        "        binary_pred = torch.argmax(binary_probs, dim=1).item()\n",
        "\n",
        "    if binary_pred == 0:\n",
        "        return {\n",
        "            \"binary_label\": 0,\n",
        "            \"multi_classification\": None,\n",
        "            \"sentiment\": None\n",
        "        }\n",
        "\n",
        "    # 2\ufe0f\u20e3 Multi\n",
        "    with torch.no_grad():\n",
        "        multi_outputs = multi_model(**inputs)\n",
        "        multi_probs = F.softmax(multi_outputs.logits, dim=1)\n",
        "        multi_pred = torch.argmax(multi_probs, dim=1).item()\n",
        "\n",
        "    # 3\ufe0f\u20e3 AWS Sentiment\n",
        "    sentiment_result = comprehend.detect_sentiment(\n",
        "        Text=text,\n",
        "        LanguageCode='ko'  # \ud55c\uad6d\uc5b4\n",
        "    )\n",
        "\n",
        "    return {\n",
        "        \"binary_label\": 1,\n",
        "        \"multi_classification\": {\n",
        "            \"category_labels\": id2label[multi_pred],\n",
        "            \"confidence\": round(multi_probs[0][multi_pred].item(), 4)\n",
        "        },\n",
        "        \"sentiment\": {\n",
        "            \"label\": sentiment_result['Sentiment'],\n",
        "            \"scores\": sentiment_result['SentimentScore']\n",
        "        }\n",
        "    }\n"
      ],
      "metadata": {
        "id": "Z2h3Qr3yX5J3"
      },
      "id": "Z2h3Qr3yX5J3",
      "execution_count": null,
      "outputs": []
    },
    {
      "cell_type": "code",
      "source": [
        "from collections import defaultdict\n",
        "\n",
        "with open(\"test.json\", \"r\", encoding=\"utf-8\") as f:\n",
        "    test_data = json.load(f)\n",
        "\n",
        "# \uacb0\uacfc\ub97c \uce74\ud14c\uace0\ub9ac\ubcc4\ub85c \uc800\uc7a5\ud560 \ub515\uc154\ub108\ub9ac\n",
        "results_by_category = defaultdict(list)\n",
        "\n",
        "for item in test_data:\n",
        "    text = item[\"text\"]\n",
        "    prediction = predict_pipeline(text)\n",
        "\n",
        "    if prediction[\"binary_label\"] == 1:\n",
        "        sentiment_scores = prediction[\"sentiment\"][\"scores\"]\n",
        "        top_sentiment = max(sentiment_scores, key=sentiment_scores.get)\n",
        "\n",
        "        category = prediction[\"multi_classification\"][\"category_labels\"]\n",
        "        confidence = prediction[\"multi_classification\"][\"confidence\"]\n",
        "\n",
        "        result = {\n",
        "            \"text\": text,\n",
        "            \"confidence\": confidence,\n",
        "            \"sentiment\": top_sentiment,\n",
        "            \"score\": round(sentiment_scores[top_sentiment], 4)\n",
        "        }\n",
        "\n",
        "        results_by_category[category].append(result)\n",
        "\n",
        "# \uce74\ud14c\uace0\ub9ac\ubcc4\ub85c confidence \ub0b4\ub9bc\ucc28\uc21c \uc815\ub82c \ud6c4 \ucd9c\ub825\n",
        "for category, items in results_by_category.items():\n",
        "    print(f\"\\n\ud83d\udcc2 Category: {category}\")\n",
        "    sorted_items = sorted(items, key=lambda x: x[\"confidence\"], reverse=True)\n",
        "    for entry in sorted_items:\n",
        "        print(entry)\n"
      ],
      "metadata": {
        "colab": {
          "base_uri": "https://localhost:8080/"
        },
        "id": "A2Gmp_W7jTpX",
        "outputId": "dc081949-782c-44b0-8600-a0d5e41419dc"
      },
      "id": "A2Gmp_W7jTpX",
      "execution_count": null,
      "outputs": [
        {
          "output_type": "stream",
          "name": "stdout",
          "text": [
            "\n",
            "\ud83d\udcc2 Category: \ud3b8\uc758\uc131/\uc0ac\uc6a9\uac10\n",
            "{'text': '\ub108\ubb34\ub098\ub3c4 \uc720\uc6a9\ud574\uc694\ud83d\ude2e', 'confidence': 0.9945, 'sentiment': 'Positive', 'score': 0.9993}\n",
            "{'text': '\uc9c1\uad6c\ud55c \uac24\ub7ed\uc2dc \uae30\uae30\ub294 \uac00\uc785\uc774 \ubd88\uac00\ud55c \uc810\uc774 \uc548\uc27d\ub354\ub77c\uace0\uc694.', 'confidence': 0.9525, 'sentiment': 'Negative', 'score': 0.9826}\n",
            "{'text': '\uc548\ub204\ub97c \uc218 \uc5c6\ub294 \uc778\ud2b8\ub85c \u314b\u314b\u314b\u314b\u314b\u314b\u314b\u314b', 'confidence': 0.9521, 'sentiment': 'Neutral', 'score': 0.5075}\n",
            "{'text': '\uc74c.. 1\uc21c\uc704\uac00 \ubb34\uac8c\uc640.\ud734\ub300\uc131. \uadf8\ub9bd\uac10\uc774\ub77c <br>\uc77c\ubc18\ud615\uc774 \ub561\uae30\uae34 \ud558\ub294\ub370<br>\uadf8\ub188\uc5d0 60hz..', 'confidence': 0.6399, 'sentiment': 'Neutral', 'score': 0.8903}\n",
            "{'text': '\uc804\uba74 \uce74\uba54\ub77c \ube44\uad50\ub294 \uc758\ubbf8\uac00 \uc5c6\ub098\uc694?', 'confidence': 0.5549, 'sentiment': 'Neutral', 'score': 0.5924}\n",
            "{'text': 'aod \ub530\ub85c \ub04c\uc218\ub3c4 \uc788\ub098\uc694?', 'confidence': 0.5371, 'sentiment': 'Neutral', 'score': 0.9878}\n",
            "\n",
            "\ud83d\udcc2 Category: \uac00\uaca9/\uad6c\uc131\n",
            "{'text': '\uc81c\uac00 \uc694\uc998 \uace0\ubbfc\ud558\ub294 \ubb38\uc81c\uac00 15\ud504\ub85c\ub9e5\uc2a4\uc640 16\ud504\ub85c\ub97c \ub193\uace0 \ubb58 \uc0ac\uc57c\ud560\uc9c0\ub97c \ubaa8\ub974\uaca0\uc2b5\ub2c8\ub2e4. 15\ud504\ub85c\ub9e5\uc2a4\uac00 \uc694\uc998 \ud560\uc778\uc774 \ub9ce\uc774 \ub4e4\uc5b4\uac00\uc11c 16\ud504\ub85c\ubcf4\ub2e4 \uc800\ub834\ud574\uc84c\ub354\uad70\uc694. \ub2e8\uc21c\ud788 \ud654\uba74\uc758 \ud06c\uae30 \ucc28\uc774\ub97c \uc81c\uc678\ud55c\ub2e4\uba74 16\ud504\ub85c \ucd5c\uc2e0 \uc131\ub2a5\uc744 \uc0ac\ub294\uac8c \ub098\uc744\uae4c\uc694? \uc544\ub2c8\uba74 \uac00\uaca9\ub3c4 \ub0ae\uc544\uc84c\uaca0\ub2e4 15\ud504\ub85c\ub9e5\uc2a4\ub97c \uc0ac\ub294\uac8c \ub098\uc744\uae4c\uc694?', 'confidence': 0.9861, 'sentiment': 'Negative', 'score': 0.8827}\n",
            "{'text': '\uacb0\uad6d \ubc14\ub010\uac70 \uc5c6\ub294\uac70 \uac19\uc544\uc11c 12\ubbf8\ub2c8\uc5d0\uc11c 15\ud504\ub85c\ub9e5\uc2a4\ub85c \uc0c0\uc2b5\ub2c8\ub2e4 \u314e\u314e \uad73\uc774 \uc815\uac00\uc8fc\uace0 16\ud504\ub9e5\uc0ac\ub290\ub2c8 \ud560\uc778\ubc1b\uace0 15\ud504\ub9e5 \uc0ac\ub294\uac8c \uc774\ub4dd\uac19\ub354\ub77c\uace0\uc694. \uc0c9\ub3c4 15\ud504\ub9e5\uc774 \uc774\uc05c\uac70\uac19\uace0\uc694', 'confidence': 0.9759, 'sentiment': 'Negative', 'score': 0.8257}\n",
            "{'text': '\uc774\ubc88\uc5d0\ub3c4 \ub77c\uc778\uc5c5 \ub0b4\uc5d0\uc11c \uac08\ub77c\uce58\uae30\ub97c \ud558\uae34 \ud588\uc9c0\ub9cc \uadf8\ub798\ub3c4 \ub35c\ud55c \ub290\ub08c\uc774\uae34\ud558\ub124\uc694.', 'confidence': 0.9352, 'sentiment': 'Negative', 'score': 0.725}\n",
            "{'text': '\uc774\ubc88 16\ubaa8\ub378\uc740 \uc77c\ubc18\ubaa8\ub378\ub3c4 \ucda9\ubd84\ud788 \uba54\ub9ac\ud2b8\uac00 \uc788\ub294\uac83 \uac19\ub124\uc694!', 'confidence': 0.8921, 'sentiment': 'Positive', 'score': 0.9217}\n",
            "{'text': '\ucf54\ud305 \uc2a4\ud399 \uc0ac\ub77c\uc9c0\ub294 \uac74 \uc815\ub9d0 \uc5bc\ucc99\uc5c6\ub124\uc694 \u3137\u3137', 'confidence': 0.6968, 'sentiment': 'Positive', 'score': 0.6308}\n",
            "{'text': '\uac00\uaca9\uc774 \ube44\uc2f8\uc11c \uae30\ubcf8\uc744 \uc0ac\ub294\uac00 \uae30\ubcf8 \uae30\ub2a5\uc774 \uc88b\uc544\uc838\uc11c \uae30\ubcf8\uc744 \uc0ac\ub294\uac00!', 'confidence': 0.6013, 'sentiment': 'Positive', 'score': 0.9645}\n",
            "{'text': '\uce74\uba54\ub77c \uc798 \uc548\uc4f0\uace0 \uc6d0\ub798 60hz \uc4f0\uace0 \uc788\uc5b4\uc11c \uadf8\ub0e5 \uc77c\ubc18\uc73c\ub85c \uac14\uc5b4\uc694', 'confidence': 0.331, 'sentiment': 'Negative', 'score': 0.5331}\n",
            "\n",
            "\ud83d\udcc2 Category: \ub514\uc790\uc778/\uc678\ud615\n",
            "{'text': '\uac1c\uc778\uc801\uc73c\ub85c \uc77c\ubc18 16 \ub514\uc790\uc778\uc774 \ub108\ubb34 \ubcc4\ub85c\ub2e4..\u3160', 'confidence': 0.9977, 'sentiment': 'Negative', 'score': 0.9835}\n",
            "{'text': '\ud615 \uc0c9\uae54\uc740\uc694', 'confidence': 0.9974, 'sentiment': 'Neutral', 'score': 0.9082}\n",
            "{'text': '\ube14\ub8e8 \uc0c9\uac10 \ubcfc\ub54c\ub9c8\ub2e4 \uc88b\ub124', 'confidence': 0.9973, 'sentiment': 'Positive', 'score': 0.9987}\n",
            "{'text': '\uacb0\uc815\uc801\uc73c\ub85c \ub514\uc790\uc778\uacfc \ubb34\uac8c\ub54c\ubb38\uc5d0 16\uc77c\ubc18 \uc120\ud0dd\ud568<br>\ud2f8 \uc0c9\uc0c1 \uc9c4\uc9dc \ub9d8\uc5d0 \ub4ed\ub2c8\ub2e4.', 'confidence': 0.997, 'sentiment': 'Positive', 'score': 0.9967}\n",
            "{'text': '12\ubbf8\ub2c8\uc4f0\ub294\ub370 \uc0ac\uc774\uc988\ub791 \ubb34\uac8c \ub514\uc790\uc778\uc774 \uc911\uc694\ud55c\ub370 16\uc77c\ubc18\uc774 \ub098\uc744\uae4c\uc694 \ud504\ub85c\uac00 \ub098\uc744\uac00\uc694? \u315c\u315c', 'confidence': 0.9968, 'sentiment': 'Neutral', 'score': 0.9904}\n",
            "{'text': '\ud578\ub4dc\ud3f0 \ub514\uc790\uc778\uc774 \uc5b8\uc81c\uae4c\uc9c0 \uc0ac\uac01\ud615\uc774\ub0d0', 'confidence': 0.9966, 'sentiment': 'Neutral', 'score': 0.7941}\n",
            "{'text': '\ubb34\uac70\uc6cc\uc11c \uac4d 13\ubbf8\ub2c8 \uacc4\uc18d \uc4f8\ub7b4', 'confidence': 0.9966, 'sentiment': 'Negative', 'score': 0.6648}\n",
            "{'text': '\uc77c\ubc18\ubc84\uc83c \uc0c9\uc0c1 \uac1c\ucd0c\uc2a4\ub7fd\ub124 \u314b\u314b\u314b \uc560\ud50c\uc5d0\uc11c \uc0bc\uc131 \uc0c9\uc0c1 \ub530\ub77c\ud588\ub098? \uceec\ub7ec\uac10 \uc9c4\uc9dc \uc5ed\ub300\uae09 \uc878\uc791\uc774\ub124', 'confidence': 0.9966, 'sentiment': 'Negative', 'score': 0.4692}\n",
            "{'text': '\ubb34\uac8c \ub54c\ubb38\uc5d0 \uc77c\ubc18 \uc808\ub300 \ud3ec\uae30 \ubabb\ud574\uc694', 'confidence': 0.9964, 'sentiment': 'Positive', 'score': 0.5798}\n",
            "{'text': '\uc77c\ubc18\ud615/\ud50c\ub7ec\uc2a4 \ubaa8\ub378 \ub514\uc790\uc778\uc740 \uc65c\ubc14\uafbc\uac70;;', 'confidence': 0.9964, 'sentiment': 'Negative', 'score': 0.6731}\n",
            "{'text': '\ub2e8\uc21c\ud788 16 \uc77c\ubc18 \ubc84\uc804\uc758 \uce74\uba54\ub77c\uc12c \ub514\uc790\uc778 \ubcf4\ub2e4 \uae30\uc874\uc758 \uce74\uba54\ub77c\uc12c \ub514\uc790\uc778\uc774 \ub354 \uc774\ubed0\uc11c \ub514\uc790\uc778 \ud558\ub098\ub9cc \ubcf4\uace0 \ud504\ub85c\uac00 \ub354 \ub561\uae30\ub124\uc694', 'confidence': 0.9963, 'sentiment': 'Positive', 'score': 0.9166}\n",
            "{'text': '\uadfc\ub370 16\uc740 \uc9c4\uc9dc \ubabb\uc0dd\uacbc\ub358\ub370..\u314e\u314e \uc0c9\uc0c1\ub3c4 \uc9c0\ub09c\ubc88\uaebc\uac00 \ub354\uc774\uc058\uace0..\u314e\u314e', 'confidence': 0.9961, 'sentiment': 'Negative', 'score': 0.9872}\n",
            "{'text': '12\uc77c\ubc18\uc5d0\uc11c 16\ud504\ub85c\ub85c \uae30\ubcc0\ud588\ub294\ub370 \ubb34\uac8c \uc9c4\uc9dc \uc7a5\ub09c \uc544\ub2d9\ub2c8\ub2e4\u314b\u314b\u314b \ubb34\uac8c \ubb34\uc2dc \ubabb\ud558\ub354\ub77c\uad6c\uc694\u314b\u314b', 'confidence': 0.9958, 'sentiment': 'Negative', 'score': 0.7572}\n",
            "{'text': '16\ud504\ub85c\ub85c \uac00\ub824\ub294\ub370 \uc9c0\uae08 \uc4f0\ub294 \ud3f0\uc774\ub791 \ubb34\uac8c\uac00 \ube44\uc2b7\ud574\uc11c \uc544\uc27d\uae34 \ud558\ub124\uc694..', 'confidence': 0.995, 'sentiment': 'Negative', 'score': 0.9592}\n",
            "{'text': '\uc774\ubc88\uc5d0 13\ud504\ub85c\uc5d0\uc11c 16\ud504\ub85c\ub85c \ub118\uc5b4\uac00\ub294\ub370 13\ubcf4\ub2e4\ub294 \uac00\ubccd\uac30\ub124\uc694\ud83d\ude43\ud83d\ude43', 'confidence': 0.9939, 'sentiment': 'Neutral', 'score': 0.5165}\n",
            "{'text': '16\ud504\ub85c \ubb34\uac8c \ub9ce\uc774 \ubb34\uac70\uc6cc\uc84b\ub2e4\uace0 \ud574\uc11c \uac71\uc815\ud587\ub294\ub370 13\ud504\ub85c(203g) \uc4f0\ub2e4\uac00 16\ud504\ub85c(199g)\ub85c \ubc14\uafb8\ub294\ub370 13\ud504\ub85c \ubb34\uac8c\uc5d0 \uc775\uc219\ud574 \uc787\ub294\ub370 \uadf8\uac83\ubcf4\ub2e8 \ubb34\uac8c\uac00 \uac00\ubcbc\uc6cc\uc84b\ub2e4\ub2c8 \uc774\uac70 \uc644\uc804 \ub7ec\ud0a4\ube44\ud0a4\uc796\uc544!\ud83d\ude05', 'confidence': 0.992, 'sentiment': 'Positive', 'score': 0.5821}\n",
            "{'text': '\ud504\ub85c \ub77c\uc778 \ucabd\ub3c4 \uc880 \uceec\ub7ec \ub2e4\uc591\ud558\uac8c \ub0b4\uc8fc\uba74 \uc88b\uc744 \uac83 \uac19\uc740\ub370, \ud504\ub85c\ucabd\uc740 \uceec\ub7ec\uac00 \uc880 \ud22c\ubc15\ud55c \ub290\ub08c\uc774\ub77c \uac1c\uc778\uc801\uc73c\ub85c \uc880 \uc544\uc26c\uc6c0.', 'confidence': 0.992, 'sentiment': 'Mixed', 'score': 0.9755}\n",
            "{'text': '\uc544\uc528 .. \ub098\ub294 \uc0c9\uc0c1\uc73c\ub85c \uc0ac\ub294 \ud3b8\uc778\ub370 .. \ub370\uc800\ud2b8 \ud2f0\ud0c0\ub284 \uc73c\ub85c \uc77c\ubc18 \uc73c\ub85c \uc880 \ub098\uc624\uc9c0 ;\u3160\u3160', 'confidence': 0.9911, 'sentiment': 'Neutral', 'score': 0.6237}\n",
            "{'text': '\ubb34\uac8c\ub54c\uba54 16\uc77c\ubc18\uad6c\ub9e4 ,\uce04\ub9ac\ub2dd\ubc14\uc9c0\uc8fc\uba38\ub2c8\uc5d0 \ub123\uc5b4\ub3c4 \ucd95\uccd0\uc9c0\ub294 \ub290\ub08c\uc774 \uac70\uc758\uc5c6\uc5b4 \uc870\uc74c', 'confidence': 0.9909, 'sentiment': 'Positive', 'score': 0.4596}\n",
            "{'text': '14\ud504\ub9e5\uc5d0\uc11c 16\ud504\ub85c\ub85c \ub118\uc5b4\uac00\ub3c4 \uad1c\ucc2e\uc744\uae4c\uc694??\ub108\ubb34 \ud070\uac70 \ubd88\ud3b8\ud558\uace0 \ubb34\uac8c\ub791 C\ud0c0\uc785\uc774 \ub561\uaca8\uc11c\uc694', 'confidence': 0.9905, 'sentiment': 'Negative', 'score': 0.9452}\n",
            "{'text': '\ubb34\uac70\uc6cc\uc84c\ub2e4\uae38\ub798 \uac71\uc815\ud588\ub294\ub370 \uc9c0\uae08 13\ud504\ub85c\ub77c\uc11c \uc624\ud788\ub824 4g \uac00\ubcbc\uc6cc\uc84c\ub124\uc694 \uc804\u314b\u314b\u314b\u314b\u314b', 'confidence': 0.9851, 'sentiment': 'Positive', 'score': 0.537}\n",
            "{'text': '\ud504\ub85c\ub294 \uce74\uba54\ub77c\ub3c4 \ubabb\uc0dd\uae30\uace0 \ubd80\ub2f4\uc2a4\ub7fd\uac8c \uc0dd\uae40, \uc0c9\uae54\ub3c4 \uac1c\uc778\uc801\uc73c\ub85c \ubcc4\ub85c\uc5ec\uc11c \uc77c\ubc18 \uc0b4\uac70\uc784', 'confidence': 0.9845, 'sentiment': 'Negative', 'score': 0.9987}\n",
            "{'text': '\ud654\uba74 \ud06c\uae30\ub294 0.2\uc778\uce58 \ucc28\uc774\uc778\ub370 \uccb4\uac10\uc774 \uac70\uc758 \uc548 \ub418\ub098\ubd10\uc694', 'confidence': 0.9844, 'sentiment': 'Negative', 'score': 0.9266}\n",
            "{'text': '\ubb34\uac8c \ub54c\ubb38\uc5d0 16\uc77c\ubc18\uc774 \ub04c\ub9ac\ub124\uc694<br>\ubb34\uac70\uc6b4 \ud3f0 \uc4f0\ub2c8\uae4c \uc190\uac00\ub77d \ub9c8\ub514\uac00 \uc544\ud30c\uc694', 'confidence': 0.9774, 'sentiment': 'Negative', 'score': 0.8612}\n",
            "{'text': '\uac04\uc9c0 \ub54c\ubb38\uc5d0 \ud504\ub85c\uc784', 'confidence': 0.9733, 'sentiment': 'Neutral', 'score': 0.9639}\n",
            "{'text': '\uc544\uc774\ud3f0 8\uc5d0\uc11c \uc544\uc774\ud3f0 16\uc73c\ub85c \uac08\uc544\ud0d4\ub294\ub370 \ud654\uba74\ub3c4 \uc5c4\uccad \ucee4\uc9c0\uace0 \ubaa8\ub4e0\uac8c \ubc84\ubc85\uc774\uc9c0 \uc54a\uace0 \ubd80\ub4dc\ub7fd\uac8c \ub418\uc11c \uc5c4\uccad \ub9cc\uc871\uc911!! \ub2e4\ub9cc \uc870\uae08 \ubb34\uac81\ub2e4\ub294\uac8c... \ub098\ub984 \ub2e8\uc810\uc774\uae34 \ud558\ub124\uc694 \u3160 \ud398\uc774\uc2a4 \uc544\uc774\ub514 \ub108\ubb34 \ud3b8\ud568', 'confidence': 0.9218, 'sentiment': 'Mixed', 'score': 0.9881}\n",
            "{'text': '\uc544\uc774\ud3f0\uc740 \ud56d\uc0c1 \ubcf4\uba74 \uce58\uba85\uc801\uc778 \ub2e8\uc810\uc774 \uc788\uc74c! \uadf8\ub9ac\uace0 \uadf8\uac78 \ucee4\ubc84\ud560 \uc815\ub3c4\ub85c \ub300\ub2e8\ud558\uc9c0\ub3c4 \uc54a\uc74c. \uc9c4\uc9dc \ub514\uc790\uc778\uc774 \ud2b8\ub80c\ub514\ud558\ub2e4\ub294 \uc7a5\uc810\uacfc \ubcf4\uc548\uc774 \uc6b0\uc218\ud558\ub2e4\ub294 \uc810 \ube7c\uace0\ub294 \ucc3e\uc544\ubcfc \uc218\uac00 \uc5c6\uc74c. \uc544\uc774\ud3f0 \uc65c \uc368!?', 'confidence': 0.8849, 'sentiment': 'Mixed', 'score': 0.9736}\n",
            "{'text': '\ud578\ub4dc\ud3f0 \ubc14\uafb8\uba74\uc11c \uc0c8 \ub514\uc790\uc778\uc801 \ub9cc\uc871\uac10\uc744 \ub290\ub07c\uc2dc\ub824\uba74 16\uc77c\ubc18 \uc0c8\ub85c\uc6b4 \uc0c9\uc0c1\uc744 \ucd94\ucc9c\ub4dc\ub9bd\ub2c8\ub2e4!! \uce74\uba54\ub77c \ubaa8\uc591\ub3c4 \ubc14\ub00c\uba74\uc11c \uc544\uc8fc \uc0c8\ub86d\uace0 \uc88b\uc544\uc694', 'confidence': 0.7402, 'sentiment': 'Positive', 'score': 0.9992}\n",
            "{'text': '\uc720\ud589\ub530\ub77c\uac00\ub294 \uc778\ud22c\ub85c', 'confidence': 0.7142, 'sentiment': 'Neutral', 'score': 0.6554}\n",
            "{'text': '15\ud504\ub9e5\uc4f0\uace0 16\ud504\ub85c\ub118\uc5b4\uc654\ub294\ub370 \ubb34\uac8c \ub298\uc5b4\ub0ac\ub2e4\uace0\ud574\ub3c4 \ud6e8\uc52c \uac00\ubccd\uac8c \ub290\uaef4\uc800\uc11c \ub9cc\uc871\uc911\uc785\ub2c8\ub2e4 \u314b\u314b\u314b\u314b <br>\uadf8\ub9bd\uac10\ub3c4 \ud6e8\uc52c \uc88b\uad6c\uc694 <br>\uadfc\ub370 \uc800 \uce74\uba54\ub77c\ubc84\ud2bc\uc774 \uc0dd\uac01\ubcf4\ub2e4 \ubd88\ud3b8\ud558\ub124\uc694....', 'confidence': 0.5868, 'sentiment': 'Positive', 'score': 0.7095}\n",
            "{'text': '\uadf8\ub798\ub3c4 13 \uc774\ud6c4\ub85c \uac04\ub9cc\uc5d0 \uc77c\ubc18\ubaa8\ub378\uc758 \uc815\uc0c1\ud654\ub77c \uc88b\uc544\uc694 \ud83d\ude3e', 'confidence': 0.5844, 'sentiment': 'Neutral', 'score': 0.7123}\n",
            "\n",
            "\ud83d\udcc2 Category: \uc131\ub2a5/\uae30\ub2a5\n",
            "{'text': '\ud56d\uc0c1 \uc601\uc0c1 \ubcf4\uba74\uc11c \ub290\ub07c\ub294 \uac74\ub370\uc694 \uc601\uc0c1 \uc7ac\uc0dd\uc18d\ub3c4\ub97c \uc815\uc0c1\uc5d0\uc11c \uc57d\uac04 \ub192\uc778\uac83\uac00\uc694? \uc544\ub2c8\uba74 \ub9d0 \uc774 \ube60\ub974\uc2e0\uac74\uac00\uc694?', 'confidence': 0.9909, 'sentiment': 'Neutral', 'score': 0.5899}\n",
            "{'text': '\uadfc\ub370 \uc800\ub294 \uc8fc\uc0ac\uc728\uc774.. 120\uc740 \ub108\ubb34 \ub208\uc774 \ube59\ube59 \ub3cc\uc544\uac00\ub294\uac83 \uac19\uace0 \ub108\ubb34 \ube68\ub77c\uc11c \uc624\ud788\ub824 \uc880 \uc5b4\uc9c0\ub7fd\ub354\ub77c\uad6c\uc694. \ud3c9\ubc94\ud558\uac8c \ubcc4\uac70 \uc548\ud558\ub294 \uc800 \uac19\uc740 \uc0ac\ub78c\uc740 \uc8fc\uc0ac\uc728 \ub0ae\uc740\uac8c \uc624\ud788\ub824 \uac10\uc0ac\ud560\ub54c\uac00 \uc788\uc5b4\uc694.', 'confidence': 0.9864, 'sentiment': 'Negative', 'score': 0.9668}\n",
            "{'text': '\uc8fc\uc0ac\uc728\ub3c4 \uadf8\ub807\uc9c0\ub9cc \uc815\ubc00 \uc774\uc911 \uc8fc\ud30c\uc218 gps \ud0d1\uc7ac \uc5ec\ubd80\ub3c4 \ud504\ub85c\ub85c \uc5c5\uadf8\ub808\uc774\ub4dc \ud560\uc9c0 \ub9d0\uc9c0 \uace0\ubbfc\ud558\uac8c \ub9cc\ub4dc\ub294 \uc694\uc18c\uc778 \uac70 \uac19\uc544\uc694', 'confidence': 0.9758, 'sentiment': 'Neutral', 'score': 0.878}\n",
            "{'text': '\uc544\uc774\ud3f0\uc740 \uac24\ub7ed\uc2dc\ucc98\ub7fc \uc0c1\ub2e8\ubc14 \ub0b4\ub824\uc11c \uce74\uba54\ub77c, \ub9c8\uc774\ud06c \uc7a0\uae08\uae30\ub2a5\uc774 \uc5c6\uc5b4\uc11c \uc544\uc26c\uc6c0.', 'confidence': 0.9668, 'sentiment': 'Positive', 'score': 0.586}\n",
            "{'text': '\ubb3b\uc9c0\ub3c4 \ub530\uc9c0\uc9c0\ub3c4 \ub9d0\uace0 13pro\ub97c \uc0dd\uac01\ud558\uac8c \ud574 \uc904 \uc815\ub3c4\ub85c \uc8fc\uc0ac\uc728 \uc5ed\uccb4\uac10\uc774 \uc2ec\ud558\ub124\uc694 \u314b\u314b\u314b', 'confidence': 0.965, 'sentiment': 'Negative', 'score': 0.8267}\n",
            "{'text': '\ud504\ub85c\ubaa8\uc158 \ub514\uc2a4\ud50c\ub808\uc774\uac00 \uc8fc\uc0ac\uc728\uc778\uac00\uc694??', 'confidence': 0.9201, 'sentiment': 'Neutral', 'score': 0.8946}\n",
            "{'text': '\uc800\uc804\ub825 \ubaa8\ub4dc \ub9d0\uace0 \uc190\uc26c\uc6b4 \uc0ac\uc6a9-\ub3d9\uc791\uc5d0\uc11c \ud504\ub808\uc784\ub960 \uc81c\ud55c \ucf1c\uba74 60Hz \uace0\uc815\ub429\ub2c8\ub2e4.', 'confidence': 0.8922, 'sentiment': 'Positive', 'score': 0.7115}\n",
            "{'text': '14\ud504\ub85c\uc5d0\uc11c 16\ud504\ub85c\ub85c \uac08\uc544\ud0d4\uc2b5\ub2c8\ub2e4. \uc758\uc678\ub85c \ud654\uc9c8\ucc28\uc774\uc640 \uce74\uba54\ub77c \uc131\ub2a5\uacfc \uae30\ub2a5 \uccb4\uac10\uc774 \ud07d\ub2c8\ub2e4. \uacb0\ub860, \ud6c4\ud68c\uc5c6\ub294 \uc120\ud0dd! \ubb34\uac8c\ub294 \ubaa8\ub974\uaca0\uc74c. (\ubc30\ud130\ub9ac 1.5\ubc30 \uc624\ub798\uac10!)', 'confidence': 0.8669, 'sentiment': 'Positive', 'score': 0.9984}\n",
            "{'text': '16\ubc1c\uc5f4 \uc81c\uc5b4\uac00 \uac8c\uc774\ubc0d\uc5d0\uc11c \u3139\u3147 \ud601\uc2e0\uc774\ub358\ub370 \uc5b8\uae09\uc774 \uc548\ub418\uc11c \uc544\uc27d\ub124\uc694', 'confidence': 0.862, 'sentiment': 'Negative', 'score': 0.8893}\n",
            "{'text': '\uce74\uba54\ub77c\uc640 \ub80c\uc988\uc758 \ud2b9\uc131 \ub54c\ubb38\uc5d0 \ub2ec\ub77c\uc9c0\ub294 \ubd80\ubd84\uc740 \ubcf4\uc815\uc744 \ud558\uace0 \ucc0d\uc73c\ub77c\uace0 \uadf8 \ub9ce\uc740 \uae30\ub2a5\uc744 \ub123\uc740 \uac70\uace0, \uc791\uc740 \ub80c\uc988\uc640 \uc791\uc740 \uc13c\uc11c\uc5d0\uc11c \uc27d\uac8c \ub098\uc62c \uc218 \uc788\ub294 \ubcf5\uad6c\ud560 \uc218 \uc5c6\ub294 \ub0a0\ub77c\uac00\ub294 \uc0ac\uc9c4\ubcf4\ub2e4 \uc5b4\ub450\uc6cc\ub3c4 \uc815\ubcf4\uac00 \uc788\ub294 \uc0ac\uc9c4\uc744 \uc6d0\ud558\uae30 \ub54c\ubb38\uc5d0 \ud504\ub85c\uac00 \uc5b4\ub461\ub2e4\ub294 \uac74 \ub2e8\uc810\uc774 \ub418\uc9c0 \uc54a\uc74c.', 'confidence': 0.8305, 'sentiment': 'Positive', 'score': 0.8219}\n",
            "{'text': '\uc7a5\uae30\uc801\uc73c\ub85c\ub294 \uae09 \ub098\ub204\uae30\uc758 \ub2e8\uacc4\ub97c \uc904\uc774\ub824\ub294 \uac78\ub85c\ub3c4 \ubcf4\uc774\uae34 \ud558\ub294\ub370...4\ub2e8\uacc4 \uae09 \ub098\ub204\uae30\ub85c \uc778\ud55c \uc774\uc810\uc774 \uadf8\ub807\uac8c \ud074\uae4c\uc694?', 'confidence': 0.7601, 'sentiment': 'Neutral', 'score': 0.7009}\n",
            "{'text': '\uc194\uc9c1\ud788 \ub514\uc2a4\ud50c\ub808\uc774 \ub54c\ub9e4 16\ud504\ub85c \uc368\uc57c\ud568... \ubb34\uac8c \ub514\uc2a4\ud50c\ub808\uc774\uac00 \uccb4\uac10 \uc81c\uc77c \uc2ec\ud568', 'confidence': 0.6126, 'sentiment': 'Negative', 'score': 0.98}\n",
            "{'text': 'AR\ucf54\ud305 \uc778\ud2b8\ub85c\uc5d0\uc11c\ub9cc \uc0b4\uc9dd \uc5b8\uae09\ud558\uace0 \ub118\uc5b4\uac08 \ub0b4\uc6a9\uc740 \uc544\ub2cc \uac70 \uac19\uc740\ub370.. \ub108\ubb34 \ub300\ucda9 \ub118\uc5b4\uac00\ub294 \uac70 \uac19\ub124\uc694', 'confidence': 0.4439, 'sentiment': 'Negative', 'score': 0.9746}\n",
            "\n",
            "\ud83d\udcc2 Category: \ud488\uc9c8/\ub0b4\uad6c\uc131\n",
            "{'text': '\ub0b4\uad6c\uc131\uc73c\ub85c \ubcf4\uba74 \ub458\uc911\uc5d0 \ubb50\uac00 \uc88b\uc744\uae4c\uc694..??', 'confidence': 0.9932, 'sentiment': 'Positive', 'score': 0.6709}\n",
            "{'text': '15 pro \uc758 \ubc1c\uc5f4\uc740 \uc5b4\ub5a4\uac00\uc694', 'confidence': 0.9894, 'sentiment': 'Neutral', 'score': 0.991}\n",
            "{'text': '\ud50c\ub7ec\uc2a4\ub294 \uc5ec\uc804\ud788 \uc548\uc4f0\uc774\uad70\uc694', 'confidence': 0.7055, 'sentiment': 'Negative', 'score': 0.5599}\n",
            "{'text': '14\ud504\ub9e5\uc5d0\uc11c 16\ud504\ub9e5\uc73c\ub85c \ub118\uc5b4\uac14\ub294\ub370 \ubb34\uac8c \uac10\uc18c\ud55c \uac83\ub9cc \ud574\ub3c4 \ub9cc\uc871\ud568 \ubc30\ud130\ub9ac\ub3c4', 'confidence': 0.6607, 'sentiment': 'Positive', 'score': 0.6671}\n",
            "{'text': '\ub450\ub2ec \uc54c\ubc14 \ube61\uc138\uac8c\ud574\uc11c \uc0b4\ub9cc \ud55c\uac00\uc694', 'confidence': 0.4418, 'sentiment': 'Neutral', 'score': 0.7992}\n",
            "{'text': '16 pro \uce74\uba54\ub77c \ud3ec\ub9f7 \ucd5c\ub300\uce58\ub85c \ud574\uc11c \ucc0d\uc5b4\ub3c4 48mp \uc548\ub098\uc624\ub294 \uac78\ub85c \uad50\ud658 \ubc1b\uc73c\uc2e0 \ubd84\uc740 \uc5c6\ub294 \uac74\uac00\uc694? \uc560\ud50c\uce21\uc5d0\uc11c\ub3c4 \uacf5\uc2dd\uc801\uc778 \uc785\uc7a5\uc774 \uc5c6\uc5b4\uc11c \ud604\uc7ac \ub300\uc751 \uba54\ub274\uc5bc\uc774 \uc5c6\uae34 \ud558\uc9c0\ub9cc.. \uc774 \ubd80\ubd84\uc774 \ubd88\ub7c9\uc778 \uac83 \uac19\uc740\ub370 \ud574\ub2f9 \uc815\ubcf4\ub294 \ucc3e\uc544\ubcfc \uc218\uac00 \uc5c6\ub124\uc694. \uc77c\ub2e8 \uc800\ub294 \uad50\ud658\ud569\ub2c8\ub2e4.', 'confidence': 0.356, 'sentiment': 'Negative', 'score': 0.9956}\n"
          ]
        }
      ]
    },
    {
      "cell_type": "markdown",
      "source": [
        "# \uc774\uc9c4\ubaa8\ub378 \ud14c\uc2a4\ud2b8"
      ],
      "metadata": {
        "id": "cANT3nzmTxqd"
      },
      "id": "cANT3nzmTxqd"
    },
    {
      "cell_type": "code",
      "source": [
        "def predict_binary_only(text):\n",
        "    inputs = tokenizer(text, return_tensors=\"pt\", truncation=True, padding=True, max_length=128)\n",
        "    inputs = {k: v.to(device) for k, v in inputs.items()}\n",
        "\n",
        "    with torch.no_grad():\n",
        "        binary_outputs = binary_model(**inputs)\n",
        "        binary_probs = F.softmax(binary_outputs.logits, dim=1)\n",
        "        binary_pred = torch.argmax(binary_probs, dim=1).item()\n",
        "\n",
        "    return binary_pred\n"
      ],
      "metadata": {
        "id": "mbGgmwD-V9pw"
      },
      "id": "mbGgmwD-V9pw",
      "execution_count": null,
      "outputs": []
    },
    {
      "cell_type": "code",
      "source": [
        "import json\n",
        "from sklearn.metrics import accuracy_score, f1_score, confusion_matrix, ConfusionMatrixDisplay\n",
        "import matplotlib.pyplot as plt\n",
        "\n",
        "# \u2705 \ud14c\uc2a4\ud2b8\uc14b \ub85c\ub4dc\n",
        "with open(\"test.json\", \"r\", encoding=\"utf-8\") as f:\n",
        "    test_data = json.load(f)\n",
        "\n",
        "# \u2705 \uc608\uce21 \uc218\ud589\n",
        "y_true = []\n",
        "y_pred = []\n",
        "\n",
        "for item in test_data:\n",
        "    text = item[\"text\"]\n",
        "    true_label = item[\"binary_label\"]  # \uc2e4\uc81c \uc774\uc9c4 \ub77c\ubca8\n",
        "    pred_label = predict_binary_only(text)\n",
        "\n",
        "    y_true.append(true_label)\n",
        "    y_pred.append(pred_label)\n",
        "\n",
        "# \u2705 \uc131\ub2a5 \ucd9c\ub825\n",
        "acc = accuracy_score(y_true, y_pred)\n",
        "f1 = f1_score(y_true, y_pred)\n",
        "\n",
        "print(f\"\u2705 Accuracy: {acc:.4f}\")\n",
        "print(f\"\u2705 F1 Score: {f1:.4f}\")\n",
        "\n",
        "# \u2705 Confusion Matrix \uc2dc\uac01\ud654\n",
        "cm = confusion_matrix(y_true, y_pred, labels=[0, 1])\n",
        "disp = ConfusionMatrixDisplay(confusion_matrix=cm, display_labels=[\"False\", \"True\"])\n",
        "disp.plot(cmap=\"Blues\")\n",
        "plt.title(\"Confusion Matrix (Binary Classification)\")\n",
        "plt.show()\n"
      ],
      "metadata": {
        "colab": {
          "base_uri": "https://localhost:8080/",
          "height": 508
        },
        "id": "qzZf6pNQTxIo",
        "outputId": "d630263a-e1a2-4329-98c5-983be2cb4912"
      },
      "id": "qzZf6pNQTxIo",
      "execution_count": null,
      "outputs": [
        {
          "output_type": "stream",
          "name": "stdout",
          "text": [
            "\u2705 Accuracy: 0.7737\n",
            "\u2705 F1 Score: 0.6504\n"
          ]
        },
        {
          "output_type": "display_data",
          "data": {
            "text/plain": [
              "<Figure size 640x480 with 2 Axes>"
            ],
            "image/png": "[encoded data removed]"
          },
          "metadata": {}
        }
      ]
    }
  ],
  "metadata": {
    "kernelspec": {
      "name": "python3",
      "display_name": "Python 3"
    },
    "language_info": {
      "name": "python",
      "version": "3.9"
    },
    "colab": {
      "provenance": [],
      "gpuType": "T4"
    },
    "accelerator": "GPU"
  },
  "nbformat": 4,
  "nbformat_minor": 5
}