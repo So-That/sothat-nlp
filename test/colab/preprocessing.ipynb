{
  "cells": [
    {
      "cell_type": "markdown",
      "metadata": {
        "id": "view-in-github",
        "colab_type": "text"
      },
      "source": [
        "<a href=\"https://colab.research.google.com/github/So-That/sothat-nlp/blob/main/Colab_%EC%8B%9C%EC%9E%91%ED%95%98%EA%B8%B0.ipynb\" target=\"_parent\"><img src=\"https://colab.research.google.com/assets/colab-badge.svg\" alt=\"Open In Colab\"/></a>"
      ]
    },
    {
      "cell_type": "code",
      "source": [
        "!pip uninstall -y emoji\n",
        "!pip install emoji==2.10.0\n"
      ],
      "metadata": {
        "id": "iiFeGSgHJYuY",
        "outputId": "6a68095f-e6cd-4f71-8740-5af884570cdd",
        "colab": {
          "base_uri": "https://localhost:8080/"
        }
      },
      "execution_count": 1,
      "outputs": [
        {
          "output_type": "stream",
          "name": "stdout",
          "text": [
            "\u001b[33mWARNING: Skipping emoji as it is not installed.\u001b[0m\u001b[33m\n",
            "\u001b[0mCollecting emoji==2.10.0\n",
            "  Downloading emoji-2.10.0-py2.py3-none-any.whl.metadata (5.3 kB)\n",
            "Downloading emoji-2.10.0-py2.py3-none-any.whl (457 kB)\n",
            "\u001b[2K   \u001b[90m━━━━━━━━━━━━━━━━━━━━━━━━━━━━━━━━━━━━━━━━\u001b[0m \u001b[32m457.9/457.9 kB\u001b[0m \u001b[31m6.9 MB/s\u001b[0m eta \u001b[36m0:00:00\u001b[0m\n",
            "\u001b[?25hInstalling collected packages: emoji\n",
            "Successfully installed emoji-2.10.0\n"
          ]
        }
      ]
    },
    {
      "cell_type": "code",
      "source": [
        "import json\n",
        "import re\n",
        "\n",
        "# === 정규식 정의 ===\n",
        "html_tag_re = re.compile(r'<[^>]+>')\n",
        "emoji_re = re.compile(\n",
        "    \"[\\U00010000-\\U0010FFFF]\",  # 모든 이모지 포함하는 유니코드 범위\n",
        "    flags=re.UNICODE\n",
        ")\n",
        "repeat_re = re.compile(r'([ㄱ-ㅎㅏ-ㅣ가-힣])\\1+')  # 반복 한글 자모 축약\n",
        "\n",
        "# === JSON 로드 ===\n",
        "with open('/content/raw_comment/headphone.json', 'r', encoding='utf-8') as f:\n",
        "    data = json.load(f)\n",
        "\n",
        "# === 전처리 ===\n",
        "unique_data = []\n",
        "seen_replies = set()\n",
        "\n",
        "for item in data:\n",
        "    reply = item.get(\"reply\", \"\")\n",
        "\n",
        "    # 중복 제거\n",
        "    if reply in seen_replies:\n",
        "        continue\n",
        "    seen_replies.add(reply)\n",
        "\n",
        "    # HTML 태그 제거\n",
        "    reply = html_tag_re.sub('', reply)\n",
        "    # 이모지 제거\n",
        "    reply = emoji_re.sub('', reply)\n",
        "    # 반복 자모 축소 (ㅋㅋㅋㅋ → ㅋ)\n",
        "    reply = repeat_re.sub(r'\\1', reply)\n",
        "\n",
        "    # strip + 저장\n",
        "    item[\"reply\"] = reply.strip()\n",
        "    unique_data.append(item)\n",
        "\n",
        "# === 결과 저장 ===\n",
        "with open('/content/headphone_cleaned.json', 'w', encoding='utf-8') as f:\n",
        "    json.dump(unique_data, f, ensure_ascii=False, indent=2)\n",
        "\n",
        "print(\"✅ 전처리 완료: headphone_cleaned.json 생성됨\")\n"
      ],
      "metadata": {
        "id": "aHBenHBfBt1D",
        "outputId": "4c091c1a-0094-4249-dbf1-09a598ee3b96",
        "colab": {
          "base_uri": "https://localhost:8080/"
        }
      },
      "execution_count": 4,
      "outputs": [
        {
          "output_type": "stream",
          "name": "stdout",
          "text": [
            "✅ 전처리 완료: headphone_cleaned.json 생성됨\n"
          ]
        }
      ]
    }
  ],
  "metadata": {
    "colab": {
      "name": "Colab 시작하기",
      "provenance": [],
      "include_colab_link": true
    },
    "kernelspec": {
      "display_name": "Python 3",
      "name": "python3"
    }
  },
  "nbformat": 4,
  "nbformat_minor": 0
}