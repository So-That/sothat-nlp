{
  "nbformat": 4,
  "nbformat_minor": 0,
  "metadata": {
    "colab": {
      "provenance": [],
      "authorship_tag": "ABX9TyNEMMb1WD+lyjp3zRvYEegs",
      "include_colab_link": true
    },
    "kernelspec": {
      "name": "python3",
      "display_name": "Python 3"
    },
    "language_info": {
      "name": "python"
    }
  },
  "cells": [
    {
      "cell_type": "markdown",
      "metadata": {
        "id": "view-in-github",
        "colab_type": "text"
      },
      "source": [
        "<a href=\"https://colab.research.google.com/github/boxty123/SoThat-NLP/blob/main/Word2Vec_Kmeans.ipynb\" target=\"_parent\"><img src=\"https://colab.research.google.com/assets/colab-badge.svg\" alt=\"Open In Colab\"/></a>"
      ]
    },
    {
      "cell_type": "markdown",
      "source": [
        "# Word2Vec -> Kmeans"
      ],
      "metadata": {
        "id": "svMRInrPUGR8"
      }
    },
    {
      "cell_type": "code",
      "source": [
        "!pip install gensim==3.4.0\n",
        "\n",
        "from gensim.models import Word2Vec\n",
        "from sklearn.cluster import KMeans\n",
        "import numpy as np\n",
        "import matplotlib.pyplot as plt\n",
        "from sklearn.decomposition import PCA\n",
        "\n",
        "\n",
        "# 불용어 제거된 문장 데이터\n",
        "sentences = [\n",
        "    \"가격 대비 성능 정말 좋다\",\n",
        "    \"정도 가격 이면 훌륭하다 선택 같다\",\n",
        "    \"가성 최고 이다 만족스럽다\",\n",
        "    \"비싸다 성능 괜찮다\",\n",
        "    \"디자인 너무 세련되다 예쁘다\",\n",
        "    \"가격 너무 비싸다 고민 되다\",\n",
        "    \"정도 성능 가격 이면 괜찮다\",\n",
        "    \"성능 기대 이하 여서 아쉽다\",\n",
        "    \"배터리 수명 너무 짧다\",\n",
        "    \"디자인 깔끔하다 고급스럽다 보이다\",\n",
        "    \"가격 저렴하다 좋다\",\n",
        "    \"성능 빠릿빠릿 하다 좋다\",\n",
        "    \"디자인 마음 들다 성능 보통 이네\",\n",
        "    \"발열 심하다 편이\",\n",
        "    \"정도 가격 대비 충분하다 성능 이에요\",\n",
        "    \"너무 싸다 걱정 하다 의외로 괜찮다\",\n",
        "    \"디자인 심플 하고 무난 느낌 이에요\",\n",
        "    \"화면 밝기 너무 어둡다 별로\",\n",
        "    \"가격 높다 성능 확실하다 좋다\",\n",
        "    \"디자인 박하다 별로 예요\",\n",
        "    \"가성 비다 좋다 구성 아쉽다\",\n",
        "    \"소음 심하다 사용 하다 불편하다\",\n",
        "    \"성능 뛰어나다 가격 부담 되다\",\n",
        "    \"가격 이렇다 성능 이라니 만족스럽다\",\n",
        "    \"화면 크다 선명하다 마음 들다\",\n",
        "    \"이전 모델 보다 확실하다 성능 개선 돼다\",\n",
        "    \"고급스럽다 가격 너무 비싸다\",\n",
        "    \"디자인 예쁘다 실용 성은 떨어지다\",\n",
        "    \"소프트웨어 최적화 아쉽다\",\n",
        "    \"가격 내려가다 구매 하다 의향 있다\",\n",
        "    \"디자인 예쁘다 스크래치 자다 생기다\",\n",
        "    \"가격 싸다 기대 하다 성능 괜찮다\",\n",
        "    \"발열 없다 성능 상당하다 좋다\",\n",
        "    \"조작 쉽다 누구 사용 하다 편하다 하다\",\n",
        "    \"성능 좋다 한데 배터리 빨리 닳다\",\n",
        "    \"가격 이면 정도 성능 기본 아니다\",\n",
        "    \"크기 너무 커서 휴대 떨어지다\",\n",
        "    \"소음 적다 조용하다 작동 하다\",\n",
        "    \"디자인 너무 독특하다 호불호 갈릴 하다\",\n",
        "    \"화면 높다 부드럽다\",\n",
        "    \"성능 뛰어나다 무게 있다\",\n",
        "    \"정도 성능 이면 충분하다 만족스럽다\",\n",
        "    \"가격 저렴하다 대박 인데 아쉽다\",\n",
        "    \"배터리 오래 가다 여행 하다 좋다\",\n",
        "    \"조립 어렵다 편이\",\n",
        "    \"디자인 성능 모두 만족스럽다\",\n",
        "    \"가성 비다 좋다 브랜드 아쉽다\",\n",
        "    \"디자인 너무 박하다 별로 예요\",\n",
        "    \"가격 대비 성능 부족하다 느낌 이에요\",\n",
        "    \"이전 모델 보다 디자인 확실하다 예쁘다\"\n",
        "]\n",
        "\n",
        "\n",
        "# Word2Vec 모델 학습\n",
        "w2v_model = Word2Vec(sentences, vector_size=100, window=3, min_count=1, workers=4)\n",
        "\n",
        "# 문장을 벡터화 (단어 벡터의 평균값 사용)\n",
        "def sentence_vector(sentence, model):\n",
        "    vectors = [model.wv[word] for word in sentence if word in model.wv]\n",
        "    return np.mean(vectors, axis=0) if vectors else np.zeros(model.vector_size)\n",
        "\n",
        "sentence_vectors = np.array([sentence_vector(sent, w2v_model) for sent in sentences])\n",
        "\n",
        "# K-Means 클러스터링\n",
        "kmeans = KMeans(n_clusters=5, random_state=42)\n",
        "kmeans.fit(sentence_vectors)\n",
        "labels = kmeans.labels_\n",
        "\n",
        "# PCA를 사용해 2차원으로 차원 축소\n",
        "pca = PCA(n_components=2)\n",
        "reduced_vectors = pca.fit_transform(sentence_vectors)\n",
        "\n",
        "# 시각화\n",
        "plt.figure(figsize=(10, 7))\n",
        "scatter = plt.scatter(reduced_vectors[:, 0], reduced_vectors[:, 1], c=labels, cmap='viridis', alpha=0.7)\n",
        "plt.colorbar(scatter, label=\"Cluster\")\n",
        "plt.title(\"K-Means Clustering of Sentences (PCA Reduced)\")\n",
        "plt.xlabel(\"PCA Component 1\")\n",
        "plt.ylabel(\"PCA Component 2\")\n",
        "\n",
        "# 문장 텍스트 추가\n",
        "for i, txt in enumerate(sentences):\n",
        "    plt.annotate(i, (reduced_vectors[i, 0], reduced_vectors[i, 1]), fontsize=8, alpha=0.7)\n",
        "\n",
        "plt.show()\n",
        "\n",
        "\n",
        "for i, label in enumerate(kmeans.labels_):\n",
        "    print(f\"문장 {i}: {' '.join(sentences[i])} → 클러스터 {label}\")"
      ],
      "metadata": {
        "colab": {
          "base_uri": "https://localhost:8080/",
          "height": 618
        },
        "id": "m_fADrp8Lvt3",
        "outputId": "f8a4596b-d24e-4a43-c07f-28bbee0c3001"
      },
      "execution_count": null,
      "outputs": [
        {
          "output_type": "stream",
          "name": "stdout",
          "text": [
            "Collecting gensim==3.4.0\n",
            "  Using cached gensim-3.4.0.tar.gz (22.2 MB)\n",
            "Requirement already satisfied: numpy>=1.11.3 in /usr/local/lib/python3.8/site-packages (from gensim==3.4.0) (1.24.4)\n",
            "Requirement already satisfied: scipy>=0.18.1 in /usr/local/lib/python3.8/site-packages (from gensim==3.4.0) (1.10.1)\n",
            "Requirement already satisfied: six>=1.5.0 in /usr/local/lib/python3.8/site-packages (from gensim==3.4.0) (1.17.0)\n",
            "Requirement already satisfied: smart_open>=1.2.1 in /usr/local/lib/python3.8/site-packages (from gensim==3.4.0) (7.1.0)\n",
            "Requirement already satisfied: wrapt in /usr/local/lib/python3.8/site-packages (from smart_open>=1.2.1->gensim==3.4.0) (1.17.2)\n",
            "Using legacy 'setup.py install' for gensim, since package 'wheel' is not installed.\n",
            "Installing collected packages: gensim\n",
            "    Running setup.py install for gensim ... \u001b[?25l\u001b[?25hdone\n",
            "Successfully installed gensim-3.4.0\n",
            "\u001b[33mWARNING: Running pip as root will break packages and permissions. You should install packages reliably by using venv: https://pip.pypa.io/warnings/venv\u001b[0m\n"
          ]
        },
        {
          "output_type": "error",
          "ename": "ModuleNotFoundError",
          "evalue": "No module named 'gensim'",
          "traceback": [
            "\u001b[0;31m---------------------------------------------------------------------------\u001b[0m",
            "\u001b[0;31mModuleNotFoundError\u001b[0m                       Traceback (most recent call last)",
            "\u001b[0;32m<ipython-input-22-2230498f1c37>\u001b[0m in \u001b[0;36m<cell line: 0>\u001b[0;34m()\u001b[0m\n\u001b[1;32m      1\u001b[0m \u001b[0mget_ipython\u001b[0m\u001b[0;34m(\u001b[0m\u001b[0;34m)\u001b[0m\u001b[0;34m.\u001b[0m\u001b[0msystem\u001b[0m\u001b[0;34m(\u001b[0m\u001b[0;34m'pip install gensim==3.4.0'\u001b[0m\u001b[0;34m)\u001b[0m\u001b[0;34m\u001b[0m\u001b[0;34m\u001b[0m\u001b[0m\n\u001b[1;32m      2\u001b[0m \u001b[0;34m\u001b[0m\u001b[0m\n\u001b[0;32m----> 3\u001b[0;31m \u001b[0;32mfrom\u001b[0m \u001b[0mgensim\u001b[0m\u001b[0;34m.\u001b[0m\u001b[0mmodels\u001b[0m \u001b[0;32mimport\u001b[0m \u001b[0mWord2Vec\u001b[0m\u001b[0;34m\u001b[0m\u001b[0;34m\u001b[0m\u001b[0m\n\u001b[0m\u001b[1;32m      4\u001b[0m \u001b[0;32mfrom\u001b[0m \u001b[0msklearn\u001b[0m\u001b[0;34m.\u001b[0m\u001b[0mcluster\u001b[0m \u001b[0;32mimport\u001b[0m \u001b[0mKMeans\u001b[0m\u001b[0;34m\u001b[0m\u001b[0;34m\u001b[0m\u001b[0m\n\u001b[1;32m      5\u001b[0m \u001b[0;32mimport\u001b[0m \u001b[0mnumpy\u001b[0m \u001b[0;32mas\u001b[0m \u001b[0mnp\u001b[0m\u001b[0;34m\u001b[0m\u001b[0;34m\u001b[0m\u001b[0m\n",
            "\u001b[0;31mModuleNotFoundError\u001b[0m: No module named 'gensim'",
            "",
            "\u001b[0;31m---------------------------------------------------------------------------\u001b[0;32m\nNOTE: If your import is failing due to a missing package, you can\nmanually install dependencies using either !pip or !apt.\n\nTo view examples of installing some common dependencies, click the\n\"Open Examples\" button below.\n\u001b[0;31m---------------------------------------------------------------------------\u001b[0m\n"
          ],
          "errorDetails": {
            "actions": [
              {
                "action": "open_url",
                "actionText": "Open Examples",
                "url": "/notebooks/snippets/importing_libraries.ipynb"
              }
            ]
          }
        }
      ]
    },
    {
      "cell_type": "markdown",
      "source": [
        "# SBert -> Kmeans"
      ],
      "metadata": {
        "id": "cZBHiX9GUW3_"
      }
    },
    {
      "cell_type": "code",
      "source": [
        "\n",
        "!pip install sentence_transformers\n",
        "\n",
        "from sentence_transformers import SentenceTransformer\n",
        "\n",
        "\n",
        "# === 사용 예시 ===\n",
        "replies = [\n",
        "    \"가격 대비 성능이 정말 좋아요!\",\n",
        "    \"이 정도 가격이면 훌륭한 선택 같아요.\",\n",
        "    \"가성비 최고입니다. 만족스러워요.\",\n",
        "    \"좀 비싸지만 성능이 괜찮네요.\",\n",
        "    \"디자인이 너무 세련되고 예뻐요.\",\n",
        "    \"가격이 너무 비싸서 고민되네요.\",\n",
        "    \"이 정도 성능에 이 가격이면 괜찮은 듯.\",\n",
        "    \"성능이 기대 이하여서 좀 아쉬워요.\",\n",
        "    \"배터리 수명이 너무 짧아요...\",\n",
        "    \"디자인이 깔끔하고 고급스러워 보이네요.\",\n",
        "    \"가격이 좀만 더 저렴했으면 좋겠어요.\",\n",
        "    \"성능이 빠릿빠릿하고 좋네요!\",\n",
        "    \"디자인이 마음에 드는데 성능은 보통이네요.\",\n",
        "    \"발열이 좀 심한 편이네요.\",\n",
        "    \"이 정도면 가격 대비 충분한 성능이에요.\",\n",
        "    \"너무 싸서 걱정했는데 의외로 괜찮아요.\",\n",
        "    \"디자인이 심플하고 무난한 느낌이에요.\",\n",
        "    \"화면 밝기가 너무 어두워서 별로네요.\",\n",
        "    \"가격이 좀 높은데 성능은 확실히 좋아요.\",\n",
        "    \"디자인이 투박해서 별로예요.\",\n",
        "    \"가성비는 좋은데 내구성이 아쉬워요.\",\n",
        "    \"소음이 심해서 사용하기 불편해요.\",\n",
        "    \"성능이 뛰어나지만 가격이 부담되네요.\",\n",
        "    \"이 가격에 이런 성능이라니 만족스럽네요.\",\n",
        "    \"화면이 크고 선명해서 마음에 들어요.\",\n",
        "    \"이전 모델보다 확실히 성능이 개선됐어요.\",\n",
        "    \"고급스럽지만 가격이 너무 비싸요.\",\n",
        "    \"디자인은 예쁘지만 실용성은 떨어지네요.\",\n",
        "    \"소프트웨어 최적화가 좀 아쉬워요.\",\n",
        "    \"가격이 내려가면 구매할 의향 있어요.\",\n",
        "    \"디자인이 예쁜데 스크래치가 잘 생겨요.\",\n",
        "    \"가격이 싸서 기대 안 했는데 성능이 괜찮아요.\",\n",
        "    \"발열도 없고 성능이 상당히 좋아요.\",\n",
        "    \"조작이 쉬워서 누구나 사용하기 편할 듯해요.\",\n",
        "    \"성능이 좋긴 한데 배터리가 빨리 닳아요.\",\n",
        "    \"이 가격이면 이 정도 성능은 기본 아닌가요?\",\n",
        "    \"크기가 너무 커서 휴대성이 떨어지네요.\",\n",
        "    \"소음이 적고 조용하게 작동하네요.\",\n",
        "    \"디자인이 너무 독특해서 호불호 갈릴 듯해요.\",\n",
        "    \"화면 주사율이 높아서 부드러워요!\",\n",
        "    \"성능은 뛰어난데 무게가 좀 있어요.\",\n",
        "    \"이 정도 성능이면 충분히 만족스러워요.\",\n",
        "    \"가격이 더 저렴했으면 대박인데 아쉽네요.\",\n",
        "    \"배터리가 오래가서 여행할 때 좋겠어요.\",\n",
        "    \"조립이 좀 어려운 편이네요.\",\n",
        "    \"디자인과 성능 모두 만족스럽습니다!\",\n",
        "    \"가성비는 좋은데 브랜드가 좀 아쉬워요.\",\n",
        "    \"디자인이 너무 투박해서 별로예요.\",\n",
        "    \"가격 대비 성능이 부족한 느낌이에요.\",\n",
        "    \"이전 모델보다 디자인이 확실히 예뻐졌네요.\"\n",
        "]\n",
        "\n",
        "\n",
        "# SBERT 모델 로드\n",
        "sbert_model = SentenceTransformer('sentence-transformers/paraphrase-multilingual-MiniLM-L12-v2')\n",
        "\n",
        "# 문장 벡터화\n",
        "sentence_embeddings = sbert_model.encode(replies)\n",
        "\n",
        "# K-Means 클러스터링\n",
        "kmeans.fit(sentence_embeddings)\n",
        "\n",
        "# 결과 출력\n",
        "for i, label in enumerate(kmeans.labels_):\n",
        "    print(f\"문장 {i}: {sentences_text[i]} → 클러스터 {label}\")"
      ],
      "metadata": {
        "id": "0xMAdrDfQth2"
      },
      "execution_count": null,
      "outputs": []
    }
  ]
}