{
  "cells": [
    {
      "cell_type": "markdown",
      "metadata": {
        "id": "view-in-github",
        "colab_type": "text"
      },
      "source": [
        "<a href=\"https://colab.research.google.com/github/boxty123/SoThat-NLP/blob/main/Konlpy_stopwords.ipynb\" target=\"_parent\"><img src=\"https://colab.research.google.com/assets/colab-badge.svg\" alt=\"Open In Colab\"/></a>"
      ]
    },
    {
      "cell_type": "code",
      "execution_count": null,
      "metadata": {
        "colab": {
          "base_uri": "https://localhost:8080/"
        },
        "id": "vDBiAJ_JIV8x",
        "outputId": "0481977c-bcff-4186-8cad-071e4127831d"
      },
      "outputs": [
        {
          "output_type": "stream",
          "name": "stdout",
          "text": [
            "Collecting konlpy\n",
            "  Downloading konlpy-0.6.0-py2.py3-none-any.whl.metadata (1.9 kB)\n",
            "Collecting JPype1>=0.7.0 (from konlpy)\n",
            "  Downloading jpype1-1.5.2-cp311-cp311-manylinux_2_17_x86_64.manylinux2014_x86_64.whl.metadata (4.9 kB)\n",
            "Requirement already satisfied: lxml>=4.1.0 in /usr/local/lib/python3.11/dist-packages (from konlpy) (5.3.1)\n",
            "Requirement already satisfied: numpy>=1.6 in /usr/local/lib/python3.11/dist-packages (from konlpy) (2.0.2)\n",
            "Requirement already satisfied: packaging in /usr/local/lib/python3.11/dist-packages (from JPype1>=0.7.0->konlpy) (24.2)\n",
            "Downloading konlpy-0.6.0-py2.py3-none-any.whl (19.4 MB)\n",
            "\u001b[2K   \u001b[90m━━━━━━━━━━━━━━━━━━━━━━━━━━━━━━━━━━━━━━━━\u001b[0m \u001b[32m19.4/19.4 MB\u001b[0m \u001b[31m15.6 MB/s\u001b[0m eta \u001b[36m0:00:00\u001b[0m\n",
            "\u001b[?25hDownloading jpype1-1.5.2-cp311-cp311-manylinux_2_17_x86_64.manylinux2014_x86_64.whl (494 kB)\n",
            "\u001b[2K   \u001b[90m━━━━━━━━━━━━━━━━━━━━━━━━━━━━━━━━━━━━━━━━\u001b[0m \u001b[32m494.1/494.1 kB\u001b[0m \u001b[31m8.6 MB/s\u001b[0m eta \u001b[36m0:00:00\u001b[0m\n",
            "\u001b[?25hInstalling collected packages: JPype1, konlpy\n",
            "Successfully installed JPype1-1.5.2 konlpy-0.6.0\n",
            "Requirement already satisfied: pandas in /usr/local/lib/python3.11/dist-packages (2.2.2)\n",
            "Requirement already satisfied: numpy>=1.23.2 in /usr/local/lib/python3.11/dist-packages (from pandas) (2.0.2)\n",
            "Requirement already satisfied: python-dateutil>=2.8.2 in /usr/local/lib/python3.11/dist-packages (from pandas) (2.8.2)\n",
            "Requirement already satisfied: pytz>=2020.1 in /usr/local/lib/python3.11/dist-packages (from pandas) (2025.1)\n",
            "Requirement already satisfied: tzdata>=2022.7 in /usr/local/lib/python3.11/dist-packages (from pandas) (2025.1)\n",
            "Requirement already satisfied: six>=1.5 in /usr/local/lib/python3.11/dist-packages (from python-dateutil>=2.8.2->pandas) (1.17.0)\n",
            "Requirement already satisfied: numpy in /usr/local/lib/python3.11/dist-packages (2.0.2)\n"
          ]
        }
      ],
      "source": [
        "!pip install konlpy\n",
        "!pip install pandas\n",
        "!pip install numpy\n",
        "\n",
        "import re\n",
        "import pandas as pd\n",
        "from konlpy.tag import Okt\n",
        "from collections import Counter\n",
        "\n",
        "class TextProcessor:\n",
        "    def __init__(self, replies, stopwords_file):\n",
        "        \"\"\"\n",
        "        TextProcessor 클래스 초기화\n",
        "        :param replies: 문장 리스트\n",
        "        :param stopwords_file: 불용어 파일 경로\n",
        "        \"\"\"\n",
        "        self.data = pd.DataFrame({'reply': replies})\n",
        "        self.okt = Okt()\n",
        "        self.stopwords = self.load_stopwords(stopwords_file)\n",
        "\n",
        "    def load_stopwords(self, file_path):\n",
        "        \"\"\"불용어 리스트 불러오기\"\"\"\n",
        "        try:\n",
        "            with open(file_path, 'r', encoding='utf-8-sig') as f:\n",
        "                return set(f.read().split(\",\"))\n",
        "        except Exception as e:\n",
        "            print(f\"불용어 파일을 불러오는 중 오류 발생: {e}\")\n",
        "            return set()\n",
        "\n",
        "    def extract_word(self, text):\n",
        "        \"\"\"한글만 남기기\"\"\"\n",
        "        hangul = re.compile('[^ㄱ-ㅎㅏ-ㅣ가-힣 ]')\n",
        "        return hangul.sub('', text)\n",
        "\n",
        "    def process_text(self, text):\n",
        "        \"\"\"형태소 분석 및 한 글자 단어 제거\"\"\"\n",
        "        words = self.okt.morphs(text, stem=True)  # 원형 복원\n",
        "        return [w for w in words if len(w) > 1]  # 한 글자 제거\n",
        "\n",
        "    def remove_stopwords(self, words):\n",
        "        \"\"\"불용어 제거\"\"\"\n",
        "        return [word for word in words if word not in self.stopwords]\n",
        "\n",
        "    def process_all(self):\n",
        "        \"\"\"전체 데이터 처리\"\"\"\n",
        "        self.data['reply'] = self.data['reply'].apply(self.extract_word)  # 한글만 남기기\n",
        "        self.data['reply'] = self.data['reply'].apply(self.process_text)  # 형태소 분석\n",
        "        self.data['reply'] = self.data['reply'].apply(self.remove_stopwords)  # 불용어 제거\n",
        "        self.data['reply'] = self.data['reply'].apply(lambda x: \" \".join(x))  # 리스트 → 문자열 변환\n",
        "\n",
        "    def get_frequent_words(self):\n",
        "        \"\"\"단어 빈도수 계산\"\"\"\n",
        "        all_words = \" \".join(self.data['reply']).split()\n",
        "        return Counter(all_words).most_common()\n"
      ]
    },
    {
      "cell_type": "code",
      "execution_count": null,
      "metadata": {
        "id": "Q4BIcMS3twAz"
      },
      "outputs": [],
      "source": []
    }
  ],
  "metadata": {
    "colab": {
      "provenance": [],
      "authorship_tag": "ABX9TyNMETMDMYg/0Oes/1Iqcra1",
      "include_colab_link": true
    },
    "kernelspec": {
      "display_name": "Python 3",
      "name": "python3"
    },
    "language_info": {
      "name": "python"
    }
  },
  "nbformat": 4,
  "nbformat_minor": 0
}